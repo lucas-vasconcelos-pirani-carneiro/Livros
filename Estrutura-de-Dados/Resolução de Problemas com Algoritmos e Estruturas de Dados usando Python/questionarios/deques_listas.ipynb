{
 "cells": [
  {
   "cell_type": "markdown",
   "id": "24a7b911",
   "metadata": {},
   "source": [
    "# Deques e Listas"
   ]
  },
  {
   "cell_type": "markdown",
   "id": "0d5c2f45",
   "metadata": {},
   "source": [
    "## Implementação de Classes"
   ]
  },
  {
   "cell_type": "code",
   "execution_count": null,
   "id": "547f61e6",
   "metadata": {
    "vscode": {
     "languageId": "plaintext"
    }
   },
   "outputs": [],
   "source": []
  },
  {
   "cell_type": "markdown",
   "id": "6013fdab",
   "metadata": {},
   "source": [
    "### Questão 01 -  "
   ]
  }
 ],
 "metadata": {
  "language_info": {
   "name": "python"
  }
 },
 "nbformat": 4,
 "nbformat_minor": 5
}
