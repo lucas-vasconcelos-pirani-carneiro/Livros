{
 "cells": [
  {
   "cell_type": "markdown",
   "id": "24a7b911",
   "metadata": {},
   "source": [
    "# Deques e Listas"
   ]
  },
  {
   "cell_type": "markdown",
   "id": "0d5c2f45",
   "metadata": {},
   "source": [
    "## Implementação de Classes"
   ]
  },
  {
   "cell_type": "code",
   "execution_count": null,
   "id": "547f61e6",
   "metadata": {
    "vscode": {
     "languageId": "plaintext"
    }
   },
   "outputs": [],
   "source": [
    "class Deque:\n",
    "    def __init__(self):\n",
    "        self.items = []\n",
    "\n",
    "    def isEmpty(self):\n",
    "        return self.items == []\n",
    "\n",
    "    def addFront(self, item):\n",
    "        self.items.append(item)\n",
    "\n",
    "    def addRear(self, item):\n",
    "        self.items.insert(0, item)\n",
    "\n",
    "    def removeFront(self):\n",
    "        return self.items.pop()\n",
    "\n",
    "    def removeRear(self):\n",
    "        return self.items.pop(0)\n",
    "\n",
    "    def size(self):\n",
    "        return len(self.items)\n",
    "\n",
    "    def front(self):  \n",
    "        return self.items[-1]\n",
    "      \n",
    "    def rear(self):  \n",
    "        return self.items[0]  \n",
    "\n",
    "class Node:\n",
    "    def __init__(self, initdata):\n",
    "        self.data = initdata\n",
    "        self.next = None\n",
    "\n",
    "    def getData(self):\n",
    "        return self.data\n",
    "\n",
    "    def getNext(self):\n",
    "        return self.next\n",
    "\n",
    "    def setData(self, newdata):\n",
    "        self.data = newdata\n",
    "\n",
    "    def setNext(self, newnext):\n",
    "        self.next = newnext\n",
    "\n",
    "class UnorderedList:\n",
    "    def __init__(self):\n",
    "        self.head = None"
   ]
  },
  {
   "cell_type": "markdown",
   "id": "6013fdab",
   "metadata": {},
   "source": [
    "### Questão 01 - Editor de Listas I \n",
    "Crie um programa para editar uma lista dinâmica de chaves. O programa recebe comandos que devem ser executados, em sequência, sobre a lista. Ao final do processamento das operações, exiba a lista em sua situação.  \n",
    "Considere como chaves válidas os inteiros **positivos**. As operações são as seguintes:\n",
    "- I valor – Insere o valor **no início** da lista.\n",
    "- F valor – Insere o valor **no final** da lista.\n",
    "- P – Remove do **final** e imprime o valor removido.\n",
    "- D – Remove do **início** e imprime o valor removido.\n",
    "- X – Indica o **final das operações** e que a lista resultante deve ser impressa.\n",
    "\n",
    "**Entrada**  \n",
    "A entrada consiste em uma série de instruções, uma por linha.  \n",
    "A instrução `X` determina o **fim da entrada**.  \n",
    "**Saída**  \n",
    "A saída consiste nos resultados de se processar cada instrução, conforme definidas no enunciado, à medida que são fornecidas.\n",
    "\n",
    "**Por exemplos**\n",
    "| Entrada         | Saída |\n",
    "|:----------------:|:-------:|\n",
    "| I 54 <br> I 87 <br> F 90 <br> I 76 <br> D <br> I 76 <br> P <br> F 90 <br> X | 76 <br> 90 <br> 76 <br> 87 <br> 54 <br> 90 |\n",
    "| F 89 <br> F 76 <br> F 1 <br> F 34 <br> D <br> D <br> D <br> X| 89 <br> 76 <br> 1 <br> 34 |\n",
    "| I 56 <br> F 89 <br> I 65 <br>F 32 <br> I 88 <br> D <br> P <br> D <br> P <br> D <br> I 56 <br> F 89 <br> I 65 <br> F 32 <br> I 88 <br> X | 88 <br> 32 <br> 65 <br> 89 <br> 56 <br> 88 <br> 65 <br> 56 <br> 89 <br> 32 <br> |\n"
   ]
  },
  {
   "cell_type": "code",
   "execution_count": null,
   "id": "c0de2d97",
   "metadata": {
    "vscode": {
     "languageId": "plaintext"
    }
   },
   "outputs": [],
   "source": [
    "class UnorderedList:\n",
    "    def __init__(self):\n",
    "        self.head = None\n",
    "\n",
    "    def editor_listas(self):\n",
    "        while True:\n",
    "            comando = input().split()\n",
    "            operacao = comando[0]\n",
    "\n",
    "            # add()\n",
    "            if operacao == 'I':\n",
    "                valor = int(comando[1])\n",
    "                temp = Node(valor)\n",
    "\n",
    "                temp.setNext(self.head)\n",
    "                self.head = temp\n",
    "\n",
    "            # append()\n",
    "            elif operacao == 'F':\n",
    "                valor = int(comando[1])\n",
    "                temp = Node(valor)\n",
    "\n",
    "                # Lista\n",
    "                if self.head is None:\n",
    "                    self.head = temp\n",
    "                else:  # Lista não vazia\n",
    "                    current = self.head\n",
    "                    while current.getNext() is not None:\n",
    "                        current = current.getNext()\n",
    "                    current.setNext(temp)\n",
    "\n",
    "            # pop()\n",
    "            elif operacao == 'P':\n",
    "                current = self.head\n",
    "                previous = None\n",
    "                \n",
    "                # Vazia\n",
    "                if self.head is None: \n",
    "                    continue  \n",
    "                # Um Nó somente\n",
    "                elif current.next is None:  \n",
    "                    print(current.getData())\n",
    "                    self.head = None\n",
    "                else:  # Mais de um nó\n",
    "                    current = self.head\n",
    "                    previous = None\n",
    "                    while current.getNext() is not None:\n",
    "                        previous = current\n",
    "                        current = current.getNext()\n",
    "                    print(current.getData())\n",
    "                    previous.setNext(None)\n",
    "\n",
    "            # pop(0)\n",
    "            elif operacao == 'D':\n",
    "                current = self.head\n",
    "                if self.head is not None:  # Lista não vazia\n",
    "                    print(current.getData())\n",
    "                    self.head = current.getNext()\n",
    "\n",
    "            elif operacao == 'X':\n",
    "                current = self.head\n",
    "                while current is not None:\n",
    "                    print(current.getData())    \n",
    "                    current = current.getNext()\n",
    "                break\n",
    "\n",
    "mylist = UnorderedList()\n",
    "mylist.editor_listas()"
   ]
  },
  {
   "cell_type": "markdown",
   "id": "6a0cf68b",
   "metadata": {},
   "source": [
    "### Questão 02 - Prevenção de Erros em Lista\n",
    "\n",
    "A implementação de lista sem ordem definida (`UnorderedList`), apresentada no livro didático da disciplina, utiliza a abstração de nós para manter os elementos inseridos na estrutura.  \n",
    "\n",
    "Por exemplo, a função `add` é responsável por adicionar um elemento à estrutura. Uma forma de implementar essa função, onde o elemento é adicionado ao início do conjunto de valores, pode ser a seguinte:\n",
    "\n",
    "```python\n",
    "def add(self, item):\n",
    "    temp = Node(item)\n",
    "    temp.setNext(self.head)\n",
    "    self.head = temp\n",
    "```\n",
    "Já a função remove necessita de uma lógica mais elaborada, já que primeiro o elemento a ser removido precisa ser localizado, ao mesmo tempo em que não se perca a referência do nó anterior ao elemento a ser removido, que deverá ser ligado ao nó posterior ao elemento removido. A implementação dessa função, apresentada pelo livro, é a seguinte:\n",
    "\n",
    "```python\n",
    "def remove(self, item):\n",
    "    current = self.head\n",
    "    previous = None\n",
    "    found = False\n",
    "    while not found:\n",
    "        if current.getData() == item:\n",
    "            found = True\n",
    "        else:\n",
    "            previous = current\n",
    "            current = current.getNext()\n",
    "\n",
    "    if previous == None:\n",
    "        self.head = current.getNext()\n",
    "    else:\n",
    "        previous.setNext(current.getNext())\n",
    "```\n",
    "\n",
    "Dada essa implementação, é possível perceber que se esse método for chamado para remover um elemento que não se encontra na estrutura, um erro irá ocorrer.\n",
    "\n",
    "Dessa forma, sua tarefa é consertar a função remove de forma a não incorrer em erros, caso o elemento a ser removido não se encontre na estrutura.\n",
    "\n",
    "**Entrada**  \n",
    "Não há entrada. Os casos de teste são definidos para valores específicos inseridos/removidos da estrutura usando a classe UnorderedList.\n",
    "\n",
    "**Saída**  \n",
    "Não há saída esperada padrão. Os casos de teste serão controlados por métodos da classe UnorderedList.\n",
    "\n",
    "| Teste                                                                                                      | Resultado    |\n",
    "| :--------------------------------------------------------------------------------------------------------- | :----------- |\n",
    "| `L = UnorderedList()`<br>`L.add(3)`<br>`L.add(2)`<br>`L.add(1)`<br>`print(f'Lista: {L}')`                  | Lista: 1 2 3 |\n",
    "| `L = UnorderedList()`<br>`L.add(3)`<br>`L.add(2)`<br>`L.add(1)`<br>`L.remove(2)`<br>`print(f'Lista: {L}')` | Lista: 1 3   |\n",
    "| `L = UnorderedList()`<br>`L.add(3)`<br>`L.add(2)`<br>`L.add(1)`<br>`L.remove(5)`<br>`print(f'Lista: {L}')` | Lista: 1 2 3 |\n"
   ]
  },
  {
   "cell_type": "code",
   "execution_count": null,
   "id": "80a0bcc9",
   "metadata": {
    "vscode": {
     "languageId": "plaintext"
    }
   },
   "outputs": [],
   "source": [
    "def remove(self,item):\n",
    "    current = self.head\n",
    "    previous = None\n",
    "    found = False\n",
    "    # Adcicionar condição current is not None pois se o item não\n",
    "    # está na lista será atribuido None ao Data gerando uma exception\n",
    "    while not found and current is not None:\n",
    "        if current.getData() == item:\n",
    "            found = True\n",
    "        else:\n",
    "            previous = current\n",
    "            current = current.getNext()\n",
    "    \n",
    "    # Verificar se encontrou o item\n",
    "    if found:\n",
    "        if previous == None:\n",
    "            self.head = current.getNext()\n",
    "        else:\n",
    "            previous.setNext(current.getNext())"
   ]
  },
  {
   "cell_type": "markdown",
   "id": "5bd4cc7a",
   "metadata": {},
   "source": [
    "### Questão 03 - Real Life LightSaber Combat Academy\n",
    "A escola Real Life Lightsaber Combat Academy precisa de ajuda... mas não é do tipo que você deve estar pensando. Eles precisam dos seus conhecimentos sobre deque para implementar uma funcionalidade desejada.   \n",
    "Eles querem uma função chamada exibe_candidatos que receba um objeto deque contendo uma lista de nomes e permita que essa lista seja impressa a partir de um índice, em ordem direta ou inversa.\n",
    "\n",
    "**Parâmetros:**\n",
    "A função `exibe_candidatos` deve receber:\n",
    "- `deque`: objeto do tipo deque que contém a relação de nomes dos alunos da Academia.\n",
    "- `pos`: posição inicial (índice inteiro) para a exibição da lista.\n",
    "- `ordem`: uma string 'direta' ou 'inversa' que define a ordem de exibição dos nomes, a partir da posição pos.\n",
    "\n",
    "Assume-se que o deque possui os métodos: `is_empty`, `add_front`, `add_rear`, `remove_front`, `remove_rear` e `size`.\n",
    "\n",
    "**Entrada**  \n",
    "Não é necessário ler dados. A função exibe_candidatos será chamada automaticamente com os argumentos apropriados.  \n",
    "**Saída**  \n",
    "A função deve imprimir os nomes armazenados no deque, um por linha, a partir da posição informada, respeitando a ordem especificada.\n",
    "\n",
    "Caso a posição seja inválida (fora dos limites da lista), a função não deve imprimir nada.\n",
    "\n",
    "**Por exemplos**\n",
    "| Código                                  | Saída esperada                                                                                                                                                                                                                                                                                                                                                                                                                                                                                                                                                                                                               |\n",
    "| --------------------------------------- | ---------------------------------------------------------------------------------------------------------------------------------------------------------------------------------------------------------------------------------------------------------------------------------------------------------------------------------------------------------------------------------------------------------------------------------------------------------------------------------------------------------------------------------------------------------------------------------------------------------------------------- |\n",
    "| `exibe_candidatos(deque, 2, 'direta')`  | Chewbacca <br> Boba Fett <br> Yoda <br> Anakin Skywalker <br> Darth Vader <br> Ben Solo <br> Kylo Ren <br> Luke Skywalker <br> Leia Organa <br> R2-D2 <br> C-3PO <br> BB-8 <br> Han Solo <br> Padmé Amidala <br> Mace Windu <br> Qui-Gon Jinn <br> Vice Almirante Holdo <br> Rose Tico <br> Poe Dameron <br> Lando Calrissian <br> Darth Maul <br> Red Boba Fett <br> Jabba, the Hutt <br> Jango Fett <br> Conde Dooku <br> Darth Tyranus <br> General Grievous <br> Sheev Palpatine <br> Darth Sidious <br> Finn <br> Maz Kanata <br> Rey Palpatine <br> Rey Skywalker <br> Ben Solo <br> Kylo Ren <br> Líder Supremo Snoke |\n",
    "| `exibe_candidatos(deque, 2, 'inversa')` | Chewbacca <br> Leia Skywalker <br> Obi-Wan Kenobi                                                                                                                                                                                                                                                                                                                                                                                                                                                                                                                                                                            |\n",
    "| `exibe_candidatos(deque, 34, 'direta')` | Ben Solo <br> Kylo Ren <br> Líder Supremo Snoke                                                                                                                                                                                                                                                                                                                                                                                                                                                                                                                                                                              |\n"
   ]
  },
  {
   "cell_type": "code",
   "execution_count": null,
   "id": "bc8ac533",
   "metadata": {
    "vscode": {
     "languageId": "plaintext"
    }
   },
   "outputs": [],
   "source": [
    "def exibe_candidatos(deque, pos, ordem):\n",
    "    # Casos Especiais\n",
    "    if deque.is_empty() or pos < 0 or pos >= deque.size():\n",
    "        return\n",
    "    \n",
    "    # Ordem Direta\n",
    "    if ordem == 'direta':\n",
    "        pos_atual = 0\n",
    "        while pos > pos_atual:\n",
    "            deque.remove_front()\n",
    "            pos_atual += 1\n",
    "        while not deque.is_empty():\n",
    "            print(deque.remove_front())\n",
    "    else: # Ordem Inversa\n",
    "        pos_atual = deque.size() \n",
    "        while pos + 1 < pos_atual:\n",
    "            deque.remove_rear()\n",
    "            pos_atual -= 1\n",
    "        while not deque.is_empty():\n",
    "            print(deque.remove_rear())"
   ]
  },
  {
   "cell_type": "markdown",
   "id": "205d2a5a",
   "metadata": {},
   "source": [
    "### Questão 04 - Remoção de Caracteres com Deque\n",
    "Seja a entrada formada por uma sequência de caracteres. Dependendo o tipo do caractere, associa-se uma instrução que precisa ser executada em seu código. Processando a entrada recebida, se você encontrar um caractere que é uma letra (do alfabeto latino) ou espaço, você deve adicioná-lo ao início do seu deque. Se o caractere for um dígito, você deve adicioná-lo ao final. Se for o caractere asterisco (*), retire o elemento no início do deque, mas se for o mais (+), retire o elemento no final.  \n",
    "\n",
    "Imprima a sequência de caracteres retornados pela execução das remoções, quando uma sequência das possíveis operações listadas é executada em um deque inicialmente vazio.\n",
    "\n",
    "**Entrada**  \n",
    "Uma linha contendo uma sequencia de caracteres: letra, dígito, * ou +.\n",
    "\n",
    "**Saída:**  \n",
    "Uma linha contendo os caracteres removidos nas operações definidas  na entrada.\n",
    "\n",
    "**Por exemplo:**  \n",
    "| Entrada                                       | Saída                   |\n",
    "| --------------------------------------------- | ----------------------- |\n",
    "| `ola***`                                      | `alo`                   |\n",
    "| `666+++`                                      | `666`                   |\n",
    "| `.nohtyp83 > c**********+*+`                  | `c > python3.8`         |\n",
    "| `rir***,* o brev*******e verb******o *rir***` | `rir,verb o brev e rir` |\n",
    "\n"
   ]
  },
  {
   "cell_type": "code",
   "execution_count": null,
   "id": "f0599df4",
   "metadata": {
    "vscode": {
     "languageId": "plaintext"
    }
   },
   "outputs": [],
   "source": [
    "d = Deque()\n",
    "\n",
    "expressao = input()\n",
    "\n",
    "saida = \"\"\n",
    "for c in expressao:\n",
    "    if c == '*':\n",
    "        saida += d.removeFront()\n",
    "    elif c == '+':\n",
    "        saida += d.removeRear()\n",
    "    elif c.isdigit():\n",
    "        d.addRear(c)\n",
    "    else:\n",
    "        d.addFront(c)\n",
    "print(saida)"
   ]
  },
  {
   "cell_type": "markdown",
   "id": "323d7ad2",
   "metadata": {},
   "source": [
    "### Questão 05"
   ]
  },
  {
   "cell_type": "markdown",
   "id": "ba8fd3f3",
   "metadata": {},
   "source": [
    "### Questão 06"
   ]
  },
  {
   "cell_type": "markdown",
   "id": "f7fe1a7f",
   "metadata": {},
   "source": [
    "### Questão 07"
   ]
  },
  {
   "cell_type": "markdown",
   "id": "b36c442a",
   "metadata": {},
   "source": [
    "### Questão 08"
   ]
  },
  {
   "cell_type": "markdown",
   "id": "926f35cc",
   "metadata": {},
   "source": [
    "### Questão 09 - Inversão de Uma Lista Encadeada\n",
    "Escreva uma função chamada `inverterLista` que receba uma lista não ordenada na estrutura de nós (lista encadeada), onde esta deve inverter a ordem dos elementos dessa lista. Segue um exemplo de inversão de uma lista com 5 elementos:\n",
    "\n",
    "**Entrada**  \n",
    "A função possui um parâmetro como entrada, que é uma lista encadeada 𝐿. \n",
    "\n",
    "**Saída**  \n",
    "A função deve retornar uma lista encadeada atualizada, com os valores invertidos.\n",
    "\n",
    "**Observação**  \n",
    "Para auxiliar a resolução do exercício, as classes a seguir já estão implementadas e poderão/deverão ser utilizadas como referência de uso para a lista encadeada. \n",
    "\n",
    "**Por exemplo:**    \n",
    "| **Código de Entrada**                                                                                                                                                            | **Saída Esperada**                                               |\n",
    "| -------------------------------------------------------------------------------------------------------------------------------------------------------------------------------- | ---------------------------------------------------------------- |\n",
    "| L = UnorderedList()<br>L.add(1)<br>L.add(2)<br>L.add(3)<br>L.add(4)<br>L.add(5)<br>print(f'Lista antes: {L}')<br>L = inverterLista(L)<br>print(f'Lista depois: {L}') | Lista antes: 5 4 3 2 1 <br> Lista depois: 1 2 3 4 5                 |\n",
    "| python<br>L = UnorderedList()<br>L.add(1)<br>L.add(2)<br>L.add(2)<br>print(f'Lista antes: {L}')<br>L = inverterLista(L)<br>print(f'Lista depois: {L}')                         | Lista antes: 2 2 1 <br> Lista depois: 1 2 2                         |\n",
    "| python<br>L = UnorderedList()<br>L.add(564)<br>L.add(98744)<br>L.add(189)<br>L.add(-25)<br>print(f'Lista antes: {L}')<br>L = inverterLista(L)<br>print(f'Lista depois: {L}')   | Lista antes: -25 189 98744 564 <br> Lista depois: 564 98744 189 -25 |\n",
    "\n"
   ]
  },
  {
   "cell_type": "code",
   "execution_count": null,
   "id": "debca54e",
   "metadata": {
    "vscode": {
     "languageId": "plaintext"
    }
   },
   "outputs": [],
   "source": [
    "def inverterLista(L : UnorderedList):\n",
    "    atual = L.head\n",
    "    anterior = None\n",
    "    \n",
    "    while atual is not None:\n",
    "        proximo = atual.next\n",
    "        atual.setNext(anterior)\n",
    "        anterior = atual\n",
    "        atual = proximo\n",
    "    \n",
    "    L.head = anterior\n",
    "    \n",
    "    return L"
   ]
  },
  {
   "cell_type": "markdown",
   "id": "44fe6b63",
   "metadata": {},
   "source": [
    "### Questão 10 - Janela Deslizante\n",
    "Dado uma lista com 𝑁 elementos, encontre o maior valor para cada sublista de tamanho 𝑘. As sublistas devem ser criadas através de janelas deslizantes de tamanho fixas (tamanho 𝑘). A medida que esta janela é deslizada, da esquerda para direita, os 𝑘 elementos precisam ser comparados e o maior valor retornado.\n",
    "\n",
    "**Entrada** \n",
    "O valor 𝑁 representa o número de elementos da lista. Na próxima linha são informados os 𝑁 números inteiros que fazem parte da lista. Na última linha é informado o valor de $1 \\leq k \\leq n$ que representa o tamanho da janela.\n",
    "\n",
    "**Saída**  \n",
    "A lista contendo os valores máximos avaliados referentes de todas as janelas.\n",
    "\n",
    "**Observação**  \n",
    "Utilizando os seus conhecimento de deque, a implementação desse exercício pode ser feita em $\\Theta(n)$ ao invés da solução de força bruta que possui complexidade $\\Theta(nk)$.Para isso, considere utilizar a estrutura de deque para armazenar os índices do vetor avaliado.\n",
    "\n",
    "**Por exemplo:**\n",
    "| **Entrada**                              | **Saída Esperada**    |\n",
    "| ---------------------------------------- | --------------------- |\n",
    "| 9 <br> 1 2 3 1 4 5 2 3 6 <br> 3        | 3 3 4 5 5 5 6       |\n",
    "| 12 <br> 1 2 3 3 1 2 4 5 1 1 2 3 <br> 3 | 3 3 3 3 4 5 5 5 2 3 |\n",
    "| 7 <br> 1 2 8 4 5 2 3 <br> 3            | 8 8 8 5 5           |\n"
   ]
  },
  {
   "cell_type": "code",
   "execution_count": null,
   "id": "73cb310e",
   "metadata": {
    "vscode": {
     "languageId": "plaintext"
    }
   },
   "outputs": [],
   "source": [
    "def janela_deslizante_maximos(n, lista, k):\n",
    "    dq = Deque()\n",
    "    resultado = []\n",
    "\n",
    "    for i in range(n):\n",
    "        while not dq.isEmpty() and dq.front() < i - k + 1:\n",
    "            dq.removeFront()\n",
    "\n",
    "        while not dq.isEmpty() and lista[dq.rear()] < lista[i]:\n",
    "            dq.removeRear()\n",
    "\n",
    "        dq.addRear(i)\n",
    "\n",
    "        if i >= k - 1:\n",
    "            resultado.append(str(lista[dq.front()]))\n",
    "\n",
    "    return \"  \".join(resultado)\n",
    "\n",
    "n = int(input())\n",
    "num = input()\n",
    "k = int(input())\n",
    "\n",
    "partes = num.split()\n",
    "lista = [int(p) for p in partes]  # converte para inteiros\n",
    "\n",
    "saida = janela_deslizante_maximos(n, lista, k)\n",
    "print(saida)"
   ]
  }
 ],
 "metadata": {
  "language_info": {
   "name": "python"
  }
 },
 "nbformat": 4,
 "nbformat_minor": 5
}
