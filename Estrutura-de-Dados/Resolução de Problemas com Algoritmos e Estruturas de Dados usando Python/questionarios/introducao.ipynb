{
 "cells": [
  {
   "cell_type": "markdown",
   "id": "84026ed4",
   "metadata": {},
   "source": [
    "# Introdução - Revisão Python"
   ]
  },
  {
   "cell_type": "markdown",
   "id": "12628ed0",
   "metadata": {},
   "source": [
    "### Questão 01 - Divisores Primos\n",
    "Implemente a função divisores, que recebe um número inteiro e retorna todos os seus divisores inteiros (incluindo 1 e ele mesmo) em uma lista.\n",
    "\n",
    "**Entrada da Função**  \n",
    "Um número inteiro $n > 0$.\n",
    "\n",
    "**Saída da Função**  \n",
    "Uma lista com todos os divisores desse número\n",
    "\n",
    "**Observações:** Implemente apenas a função, o código de teste se encarrega de ler a entrada, chamar a função e imprimir o resultado.\n",
    "\n",
    "**Por exemplo:**  \n",
    "| **Teste** | **Resultado** |\n",
    "| --------- | ------------- |\n",
    "| `print(divisores(5))` | [1, 5] |\n",
    "| `print(divisores(120))` | [1, 2, 3, 4, 5, 6, 8, 10, 12, 15, 20, 24, 30, 40, 60, 120] |\n",
    "|`print(divisores(131))` | [1, 131] |"
   ]
  },
  {
   "cell_type": "code",
   "execution_count": null,
   "id": "0993296b",
   "metadata": {
    "vscode": {
     "languageId": "plaintext"
    }
   },
   "outputs": [],
   "source": [
    "def divisores(n):\n",
    "    div = []\n",
    "    for i in range(1,n + 1):\n",
    "        if(n % i == 0):\n",
    "            div.append(i)\n",
    "    return div"
   ]
  },
  {
   "cell_type": "markdown",
   "id": "46ec565d",
   "metadata": {},
   "source": [
    "### Questão 02 - Frequência - Caracteres\n",
    "Implemente a função frequencia, que recebe uma mensagem e retorna o caracter mais comum dessa mensagem. Em caso de empate, retorne o primeiro caracter mais frequente\n",
    "\n",
    "**Entrada:**  \n",
    "Sequência de caracteres em uma linha.\n",
    "\n",
    "**Saída:**  \n",
    "O caracter com maior frequência.\n",
    "\n",
    "**Observações:** Implemente apenas a função, o código de teste se encarrega de ler a entrada, chamar a função e imprimir o resultado.\n",
    "\n",
    "**Por exemplo:**\n",
    "| **Teste** | **Resultado** |\n",
    "| --------- | ------------- |\n",
    "| `print(frequencia('Estrutura de Dados'))` | s |\n",
    "| `print(frequencia('oftalmotorrinolaringologista'))` | o |\n",
    "|`print(frequencia('1*22*333*4444*55555'))` | 5 |"
   ]
  },
  {
   "cell_type": "code",
   "execution_count": null,
   "id": "51441d99",
   "metadata": {
    "vscode": {
     "languageId": "plaintext"
    }
   },
   "outputs": [],
   "source": [
    "def frequencia(mensagem):\n",
    "    if mensagem == '':\n",
    "        return ' '\n",
    "    \n",
    "    contagem = {}\n",
    "    for caracter in mensagem:\n",
    "        contagem[caracter] = contagem.get(caracter,0) + 1\n",
    "\n",
    "    char_mais_freq = max(contagem, key=contagem.get)\n",
    "    return char_mais_freq"
   ]
  },
  {
   "cell_type": "markdown",
   "id": "e6e9feef",
   "metadata": {},
   "source": [
    "### Questão 03 - Lesma\n",
    "Um dos professores desta disciplina possui como hobby criar dataset dos mais diversos tipos. Datasets são conjuntos de dados 𝑋 normalmente estruturados em tabelas que contém 𝐿 pares de dados. \n",
    "\n",
    "O último dataset gerado por esse professor misterioso é sobre lesmas. A responsabilidade de capturar lesmas velozes não é uma tarefa trivial de ser resolvida, uma vez que todas as lesmas são muito lentas. Neste dataset, cada lesma é rotulada em três níveis de acordo com sua velocidade, sendo elas:\n",
    "- Classe 1: Velocidade menor que 10 cm/h.\n",
    "- Classe 2: Velocidade maior ou igual 10 cm/h e menor que 20 cm/h.\n",
    "- Classe 3: Velocidade maior ou igual a 20 cm/h.\n",
    "\n",
    "Diante do exposto, vamos ajudar o nosso querido professor a implementar um programa que a lesma mais veloz de cada classe em um grupo de lesmas.\n",
    "\n",
    "**Entrada:**  \n",
    "A primeira linha (L) representa a quantidade de lesmas, sendo que ($1 \\leq L \\leq 100$).Cada linha subsequente apresenta as velocidades 𝑉𝑖 de cada lesma, sendo estes inteiros onde($1 \\leq V_i \\leq 50$).\n",
    "\n",
    "**Saída:**  \n",
    "Para cada classe, apresente a lesma com maior velocidade. Se uma determina classe não apresentar amostras, retornar o valor zero.\n",
    "\n",
    "**Por exemplo:**\n",
    "| **Input** | **Resultado** |\n",
    "| --------- | ------------- |\n",
    "| 5 <br> 12 <br> 9 <br> 8 <br> 7 <br> 6 | 9 12 0 |\n",
    "| 5 <br> 12 <br> 9 <br> 8 <br> 60 <br> 6 | 9 12 60 |\n",
    "| 8 <br> 12 <br> 9 <br> 8 <br> 7 <br> 6 <br> 20 <br> 10 <br> 21 | 9 12 21 |"
   ]
  },
  {
   "cell_type": "code",
   "execution_count": null,
   "id": "7e753716",
   "metadata": {
    "vscode": {
     "languageId": "plaintext"
    }
   },
   "outputs": [],
   "source": [
    "# Soluçao 01\n",
    "qtde_lesma = int(input())\n",
    "\n",
    "classe1 = 0\n",
    "classe2 = 0\n",
    "classe3 = 0\n",
    "\n",
    "cont = 0\n",
    "while cont < qtde_lesma:\n",
    "    velocidade = int(input())\n",
    "    if velocidade < 10:\n",
    "        if classe1 < velocidade:\n",
    "            classe1 = velocidade\n",
    "    elif velocidade >= 10 and velocidade < 20:\n",
    "        if classe2 < velocidade:\n",
    "            classe2 = velocidade\n",
    "    else:\n",
    "        if classe3 < velocidade:\n",
    "            classe3 = velocidade\n",
    "    cont += 1\n",
    "        \n",
    "print(classe1,classe2,classe3)\n",
    "\n",
    "# Soluçao 02\n",
    "qtde_lesmas = int(input())\n",
    "classe1 = classe2 = classe3 = 0\n",
    "\n",
    "for _ in range(qtde_lesmas):\n",
    "    velocidade = int(input())\n",
    "    if velocidade < 10:\n",
    "        classe1 = max(classe1, velocidade)\n",
    "    elif 10 <= velocidade < 20:\n",
    "        classe2 = max(classe2, velocidade)\n",
    "    else:\n",
    "        classe3 = max(classe3, velocidade)\n",
    "\n",
    "print(classe1, classe2, classe3)\n",
    "\n",
    "# Solução 03\n",
    "qtde_lesmas = int(input())\n",
    "velocidades = []\n",
    "\n",
    "for _ in range(qtde_lesmas):\n",
    "    velocidades.append(int(input()))\n",
    "\n",
    "classe1 = max([v for v in velocidades if v < 10], default=0)\n",
    "classe2 = max([v for v in velocidades if 10 <= v < 20], default=0)\n",
    "classe3 = max([v for v in velocidades if v >= 20], default=0)\n",
    "\n",
    "print(classe1, classe2, classe3)\n"
   ]
  },
  {
   "cell_type": "markdown",
   "id": "80e8d3ed",
   "metadata": {},
   "source": [
    "### Questão 04 - Qual mês é?\n",
    "Meses podem ser identificados por números ou pelos próprio nome. Dado um valor inteiro m identificando um mês, indique o nome deste mês do ano.\n",
    "\n",
    "**Entrada**  \n",
    "A entrada contém uma linha com um valor inteiro $1 \\leq m \\leq 12$.\n",
    "\n",
    "**Saída**  \n",
    "O nome do mês indicado pelo número lido, por extenso e com a primeira letra maiúscula. Use apenas caracteres ASCII.\n",
    "\n",
    "**Por exemplo:**\n",
    "| **Input** | **Resultado** |\n",
    "| --------- | ------------- |\n",
    "| 5  | Marco |\n",
    "| 6 | Junho |\n",
    "| 1 | Janeiro |"
   ]
  },
  {
   "cell_type": "code",
   "execution_count": null,
   "id": "d9251fb7",
   "metadata": {
    "vscode": {
     "languageId": "plaintext"
    }
   },
   "outputs": [],
   "source": [
    "meses = { 1 : 'Janeiro', 2 : 'Fevereiro', 3 : 'Marco' , 4 : 'Abril', 5 : 'Maio', 6 : 'Junho', 7 :'Julho', \n",
    "8 : 'Agosto', 9 : 'Setembro', 10 : 'Outubro', 11 : 'Novembro', 12 : 'Dezembro' }\n",
    "\n",
    "m = int(input())\n",
    "\n",
    "print(meses[m])"
   ]
  },
  {
   "cell_type": "markdown",
   "id": "1c87ace0",
   "metadata": {},
   "source": [
    "### Questão 05 - A raposa e o coelho\n",
    "Em um grande campo viviam um coelho e uma raposa.A raposa quer devorar o coelho, enquanto o coelho quer fugir da raposa por um dos muitos buracos que possui no campo.Tanto a raposa quanto o coelho não são especialistas em matemática, mas também não são completamente estúpidos.\n",
    "\n",
    "O coelho escolhe um buraco e segue em direção a ele em linha reta e a uma velocidade constante.A raposa, que é muito boa em leitura de linguagem corporal, segue no mesmo instante em direção ao mesmo buraco escolhido pelo coelho, em linha reta e a uma velocidade igual ao dobro da velocidade do coelho.Se a raposa atinge o buraco primeiro ela devora o coelho, caso contrário o coelho escapa.Seu objetivo é escolher um buraco pelo qual o coelho possa escapar, se tal buraco existir.\n",
    "\n",
    "**Entrada:**  \n",
    "A entrada consiste de vários casos de teste. A primeira linha de cada caso contém um inteiro $n$ ($0 \\leq n \\leq 1000$) que denota o número de buracos presentes no campo.A segunda linha apresenta dois números reais, separados por espaço, indicando as coordenadas (x,y) do coelho, e a terceira linha dois valores reais, separados por espaço, com as coordenadas (x,y) da raposa. Na sequência, são apresentadas $n$ linhas, cada uma indicando a posição dos buracos no mesmo formato: dois números reais, separados por espaço, com as coordenadas (x,y).Todas as distâncias estão em metros, e sempre $−10000 \\leq x,y \\leq 10000$.\n",
    "\n",
    "**Saída:**  \n",
    "Para cada caso, se o coelho puder fugir, a saída deve conter a frase \"O coelho pode escapar pelo buraco (x,y).\"Indicando as coordenadas exatas do buraco em questão, com 3 casas decimais.Caso contrário, a saída deve conter a frase \"O coelho não pode escapar.\"\n",
    "\n",
    "**Observação:**\n",
    "Se o coelho puder escapar por mais de um buraco, mostre na saída o buraco que aparece em primeiro lugar na entrada.\n",
    "\n",
    "**Por exemplo:**\n",
    "| **Input** | **Resultado** |\n",
    "| --------- | ------------- |\n",
    "| 1 <br> 1.000 1.000 <br> 2.000 2.000 <br> 1.500 1.500 | O coelho nao pode escapar. |\n",
    "| 2 <br> 2.000 2.000 <br> 1.000 1.000 <br> 1.500 1.500 <br> 2.500 2.500 | O coelho pode escapar pelo buraco (2.500, 2.500). |"
   ]
  },
  {
   "cell_type": "code",
   "execution_count": null,
   "id": "c5124d77",
   "metadata": {
    "vscode": {
     "languageId": "plaintext"
    }
   },
   "outputs": [],
   "source": [
    "num_buracos = int(input())\n",
    "\n",
    "x_coelho, y_coelho = map(float, input().split())\n",
    "x_raposa, y_raposa = map(float, input().split())\n",
    "\n",
    "coelho_pode_fugir = False\n",
    "\n",
    "# Distância\n",
    "def calcular_distancia(x1, y1, x2, y2):\n",
    "    return ((x1 - x2) ** 2 + (y1 - y2) ** 2) ** 0.5\n",
    "\n",
    "# Verificar os Buracos\n",
    "for _ in range(num_buracos):\n",
    "    x_buraco, y_buraco = map(float, input().split())\n",
    "    dist_coelho_buraco = calcular_distancia(x_buraco, y_buraco, x_coelho, y_coelho)\n",
    "    dist_raposa_buraco = calcular_distancia(x_buraco, y_buraco, x_raposa, y_raposa)\n",
    "\n",
    "    if dist_coelho_buraco < dist_raposa_buraco / 2:\n",
    "        print(f\"O coelho pode escapar pelo buraco ({x_buraco:.3f}, {y_buraco:.3f}).\")\n",
    "        coelho_pode_fugir = True\n",
    "        break\n",
    "\n",
    "if not coelho_pode_fugir:\n",
    "    print(\"O coelho nao pode escapar.\")"
   ]
  },
  {
   "cell_type": "markdown",
   "id": "c8d2a2be",
   "metadata": {},
   "source": [
    "### Questão 06 - copy + patch\n",
    "Uma característica de muitos programas de transferência de arquivo é a FALTA de precisão para estimar o tempo remanescente de transferência (exemplo aleatório). Num sistema operacional de verdade, o tempo de transferência é estimado com base na taxa de transferência em segundos dos bytes e no número de bytes que restam para serem transferidos. \n",
    "\n",
    "A ideia é simples, basta estimar o tempo restante assumindo que a taxa de transferência será mantida para os bytes que ainda não foram enviados. Implemente um patch para realizar esta tarefa adequadamente.\n",
    "\n",
    "**Entrada**  \n",
    "A entrada do seu programa é um conjunto de dados descrevendo a transferência de arquivo. A primeira linha apresenta um número inteiro não negativo, definindo o tamanho do arquivo em bytes. Cada linha subsequente apresenta o número de bytes inteiros transmitido em um segundo. É garantido que o total de bytes transmitidos é igual ao número de bytes no arquivo.\n",
    "\n",
    "**Saída**  \n",
    "A primeira linha da saída deve apresentar o tamanho do arquivo a ser transferido. Cada linha subsequente apresenta a atualização da estimativa de tempo restante, calculada a partir da quantidade de bytes sendo transmitidos. Para não sobrecarregar o observador, apresente a taxa uma vez a cada 5 segundos. Caso não ocorra transferência completa de byte(s) nesse intervalo, o programa deve emitir a mensagem \"pendente\". O tempo restante (estimado) deve ser arredondado para cima.\n",
    "\n",
    "**Observações**  \n",
    "No segundo exemplo, os primeiros 5 segundos transmitem 45 bytes, portanto pode-se calcular a taxa de transferência média e, assim estimar que falta apenas 1 segundo para transmitir os bytes restantes. Infelizmente a rede estava instável e as duas medidas seguintes, indicaram que não houve transmissão. Por fim, houve transmissão suficiente para terminar de enviar os bytes antes que fosse possível mostrar outra mensagem de acompanhamento.\n",
    "\n",
    "**Por exemplo:**\n",
    "| **Input** | **Resultado** |\n",
    "| --------- | ------------- |\n",
    "| 100 <br> 10 <br> 20 <br> 20 <br> 0 <br> 10 <br> 0 <br> 10 <br> 0 <br> 10 <br> 0 <br> 20 | Transmitindo 100 bytes... <br> Tempo restante: 4 segundos. <br> Tempo restante: 5 segundos. <br> Tempo total: 11 segundos. |\n",
    "| 50 <br> 5 <br> 5 <br> 5 <br> 5 <br> 25 <br> 0 <br> 0 <br> 0 <br> 0 <br> 0 <br> 0 <br> 0 <br> 0 <br> 0 <br> 0 <br> 1 <br> 1 <br> 1 <br> 1 <br> 1 | Transmitindo 50 bytes... <br> Tempo restante: 1 segundos. <br> Tempo restante: pendente... <br> Tempo restante: pendente... <br> Tempo total: 20 segundos. |\n",
    "| 200 <br> 60 <br> 30 <br> 100 <br> 10 | Transmitindo 200 bytes... <br> Tempo total: 4 segundos. |\n"
   ]
  },
  {
   "cell_type": "code",
   "execution_count": null,
   "id": "bc4c58ff",
   "metadata": {
    "vscode": {
     "languageId": "plaintext"
    }
   },
   "outputs": [],
   "source": [
    "from math import ceil\n",
    "\n",
    "tam_arquivo = int(input())\n",
    "\n",
    "tam_restante = tam_arquivo\n",
    "total_segundos = 0\n",
    "timer = 0\n",
    "bytes_acumulados = 0\n",
    "\n",
    "print(f'Transmitindo {tam_arquivo} bytes...')\n",
    "\n",
    "while tam_restante > 0:\n",
    "    # bytes transmitidos em 1 segundo\n",
    "    bytes_transmitidos = int(input())\n",
    "    \n",
    "    bytes_acumulados += bytes_transmitidos\n",
    "    tam_restante -= bytes_transmitidos\n",
    "    total_segundos += 1\n",
    "    timer += 1\n",
    "\n",
    "    # Verifica se é hora de atualizar a estimativa (a cada 5 segundos)\n",
    "    if timer == 5:\n",
    "        # Verificar se há bytes a transmitir\n",
    "        if tam_restante > 0:\n",
    "            # média de transferência (bytes por segundo)\n",
    "            taxa_media = bytes_acumulados / 5\n",
    "            if taxa_media == 0: # não houve transmissão, exibe \"pendente\"\n",
    "                print('Tempo restante: pendente...')\n",
    "            else:\n",
    "                # Calcula o tempo restante, arredondando para cima\n",
    "                tempo_restante = ceil(round(tam_restante / taxa_media, 10))\n",
    "                print(f'Tempo restante: {tempo_restante} segundos.')\n",
    "        \n",
    "        # Reinicia o contador de bytes acumulados e o timer\n",
    "        bytes_acumulados = 0\n",
    "        timer = 0\n",
    "\n",
    "print(f'Tempo total: {total_segundos} segundos.')"
   ]
  },
  {
   "cell_type": "markdown",
   "id": "ee831923",
   "metadata": {},
   "source": [
    "### Questão 07 - Divisores Primos\n",
    "Números primos gêmeos são pares de números primos (𝑝1, 𝑝2) tais que 𝑝2=𝑝1+2.\n",
    "\n",
    "Implemente uma função chamada primos_gemeos que recebe um número inteiro n e retorna os n primeiros pares de números primos gêmeos, conforme formatação indicada abaixo.\n",
    "\n",
    "**Entrada:**  \n",
    "Um número inteiro $0 \\leq n \\leq 80$ .\n",
    "\n",
    "**Saída da Função:**  \n",
    "Uma lista com os n primeiros pares de números primos gêmeos, sendo cada par definido em uma tupla.\n",
    "\n",
    "**Observações:** Implemente apenas a função, o código de teste se encarrega de ler a entrada, chamar a função e imprimir o resultado.\n",
    "\n",
    "**Por exemplo:**\n",
    "| **Input** | **Resultado** |\n",
    "| --------- | ------------- |\n",
    "| 2 | [(3, 5), (5, 7)] |\n",
    "| 3 | [(3, 5), (5, 7), (11, 13)] |\n",
    "| 10 | [(3, 5), (5, 7), (11, 13), (17, 19), (29, 31), (41, 43), (59, 61), (71, 73), (101, 103), (107, 109)] |"
   ]
  },
  {
   "cell_type": "code",
   "execution_count": null,
   "id": "385edbf8",
   "metadata": {
    "vscode": {
     "languageId": "plaintext"
    }
   },
   "outputs": [],
   "source": [
    "def eh_primo(numero):\n",
    "    for i in range(2,numero):\n",
    "        if numero % i == 0:\n",
    "            return False\n",
    "    return True\n",
    "\n",
    "def primos_gemeos(n: int):\n",
    "    lista_primos = []\n",
    "    qtde_pares = 0\n",
    "    limite = 10000\n",
    "\n",
    "    for i in range(3, limite, 2):\n",
    "        if eh_primo(i) and eh_primo(i + 2) and qtde_pares != n:\n",
    "            tupla_primos = (i, i + 2)\n",
    "            lista_primos.append(tupla_primos)\n",
    "            qtde_pares += 1\n",
    "    \n",
    "    return lista_primos"
   ]
  },
  {
   "cell_type": "markdown",
   "id": "ee3e6c88",
   "metadata": {},
   "source": [
    "### Questão 08 - Apagando zeros\n",
    "\n",
    "**Você, e apenas você,** tem uma string s em que os caracteres são ou 0 ou 1.  \n",
    "**Você** quer que todos os 1's da string formem uma sequência contínua. Por exemplo, se a string é 0, 1, 00111 ou 01111100, então todos os 1's formam uma sequência contínua. Se a string for 0101, 100001 ou 111111111101, então a condição não é satisfeita.  \n",
    "**Você** pode apagar alguns (ou nenhum se quiser) 0's (zeros) da string. Qual o menor número de 0's que você tem que apagar para que a string da entrada tenha a condição satisfeita? \n",
    "\n",
    "**Entrada**  \n",
    "A primeira linha contém um número n, quantas strings você terá que responder.As próximas n linhas contém uma string 𝑠 de tamanho entre 1 e 100 caracteres, onde cada caractere é ou 0 ou 1.\n",
    "\n",
    "**Saída**  \n",
    "Imprima n inteiros, onde o i-ésimo inteiro é a resposta para a i-ésima string da entrada.\n",
    "\n",
    "**Por exemplo:**\n",
    "| **Input** | **Resultado** |\n",
    "| --------- | ------------- |\n",
    "| 3 <br> 010011 <br> 0 <br> 1111000 | 2 <br> 0 <br> 0 |\n",
    "| 2 <br> 01010 <br> 0 | 1 <br> 0 |\n",
    "| 1 <br> 00101111100 | 1 |"
   ]
  },
  {
   "cell_type": "code",
   "execution_count": null,
   "id": "88feb051",
   "metadata": {
    "vscode": {
     "languageId": "plaintext"
    }
   },
   "outputs": [],
   "source": [
    "n = int(input())\n",
    "\n",
    "for i in range(n):\n",
    "    str = input()\n",
    "    \n",
    "    primeiro_um = -1\n",
    "    ultimo_um = -1\n",
    "    \n",
    "    # Encontrar o Intervalo de 1's\n",
    "    for i in range(len(str)):\n",
    "        if str[i] == '1':\n",
    "            if primeiro_um == -1:\n",
    "                primeiro_um = i\n",
    "            ultimo_um = i\n",
    "    \n",
    "    if primeiro_um == -1: # Caso Especial sem nenhum 1\n",
    "        print(0)\n",
    "    else: # Ver os Zeros a serem removidos nesse Intervalo\n",
    "        zeros_a_remover = 0\n",
    "        for i in range(primeiro_um, ultimo_um + 1):\n",
    "            if str[i] == '0':\n",
    "                zeros_a_remover += 1\n",
    "    \n",
    "        print(zeros_a_remover)"
   ]
  },
  {
   "cell_type": "markdown",
   "id": "2bec5ae8",
   "metadata": {},
   "source": [
    "### Questão 09 - Compressão de Strings\n",
    "Johnny é um cara legal que gostava de carros e brincar com algoritmos de compressão. Ele está trabalhando em um projeto no qual tem que lidar com cadeias de caracteres extremamente grandes. O maior problema de Johnny nesse trabalho é que essas strings são grandes demais para manipular diretamente, então ele precisa de uma representação alternativa (menor) para a mesma informação. Johnny pensou em usar uma técnica bem conhecida para comprimir as strings: trocar ocorrências consecutivas de um mesmo caractere por uma única ocorrência deste mesmo caractere, seguida da quantidade de ocorrências. Neste formato, todo caractere é seguido por um inteiro positivo. Essa compressão permitiu que ele comunicasse suas strings, mas ele não consegue processá-las corretamente e agora precisa da sua ajuda para revertê-las às suas formas originais.\n",
    "\n",
    "**Entrada**  \n",
    "A entrada é composta de uma linha contendo um inteiro N (1 ≤ N ≤ 50), seguida de N linhas distintas, cada uma com uma string codificada. É garantido que toda string tem pelo menos um caractere e está no formato comprimido, ou seja, é composto apenas por letras (maiúsculas) e dígitos.\n",
    "\n",
    "**Saı́da**  \n",
    "Apresente as strings decodificadas, uma por linha.\n",
    "\n",
    "**Por exemplo:**  \n",
    "| **Input** | **Resultado** |\n",
    "| --------- | ------------- |\n",
    "| 4 <br> A12B2C6 <br> A3B6F8 <br> A16B4 <br> G5H2 | AAAAAAAAAAAABBCCCCCC <br> AAABBBBBBFFFFFFFF <br> AAAAAAAAAAAAAAAABBBB <br> GGGGGHH |\n",
    "| 2 <br> X1A10D10 <br> V20 | XAAAAAAAAAADDDDDDDDDD <br> VVVVVVVVVVVVVVVVVVVV |"
   ]
  },
  {
   "cell_type": "code",
   "execution_count": null,
   "id": "66b57647",
   "metadata": {
    "vscode": {
     "languageId": "plaintext"
    }
   },
   "outputs": [],
   "source": [
    "n = int(input())\n",
    "\n",
    "for i in range(n):\n",
    "    str = input()\n",
    "    str_decodificada = ''\n",
    "    i = 0\n",
    "    \n",
    "    while i < len(str):\n",
    "        letra = str[i]\n",
    "        i += 1\n",
    "        fator = ''\n",
    "        while i < len(str) and str[i].isdigit():\n",
    "            fator += str[i]\n",
    "            i += 1\n",
    "        str_decodificada += letra * int(fator)\n",
    "    \n",
    "    print(str_decodificada)"
   ]
  },
  {
   "cell_type": "markdown",
   "id": "0111f58a",
   "metadata": {},
   "source": [
    "### Questão 10 - Equipe titular\n",
    "Venceslau está treinando uma equipe de futebol Pequi Futebol Clube (Pequi FC) e encontra dificuldades para escalar um time titular ideal. A equipe possui um elenco com jogadores, em que o i-ésimo jogador possui nível técnico (habilidade) $a_i$. Quanto maior é o valor de $a_i$, mais habilidoso é o jogador em questão.\n",
    "\n",
    "O Pequi FC está disputando a quinta divisão do Campeonato Goiano, em que cada equipe deve levar exatamente 11 jogadores a campo, definindo o time titular. Já para o banco de reservas, o clube pode levar, no máximo, 11 jogadores. Como Venceslau é um treinador com características ofensivas, ele sempre escala os melhores jogadores (os mais habilidosos) para o time titular e leva para o banco de reservas os jogadores mais habilidosos do elenco que não foram escalados como titulares. Infelizmente, alguns atletas do elenco podem não chegar a serem relacionados para o jogo.\n",
    "\n",
    "Considerando que a soma da habilidades dos jogadores titulares e reservas sejam t e r, respectivamente, escreva um programa que determine a **maior diferença** possível entre t e r. Vale lembrar que, Venceslau sempre leva a maior quantidade possível de jogadores para os jogos, sendo sempre possível levar ao menos um time titular (11 jogadores) e um jogador reserva.\n",
    "\n",
    "**Entrada**  \n",
    "A primeira linha da entrada contém um número inteiro n ($12 \\leq n \\leq 10^2$), indicando a quantidade de jogadores no plantel do Pequi FC.A segunda linha contém n números inteiros separados por espaço, $a_1,a_2,...,a_n$ ($1 \\leq a_i \\leq 100$), indicando a habilidade de cada jogador do plantel.\n",
    "\n",
    "**Saída**  \n",
    "Imprima um número inteiro que expressa a maior diferença possível entre as somas das habilidades dos jogadores dos times titular e reserva.\n",
    "\n",
    "**Por exemplo:**  \n",
    "| **Input** | **Resultado** |\n",
    "| --------- | ------------- |\n",
    "| 13 <br> 8 5 11 13 15 3 12 14 5 12 4 5 16 | 109 |\n",
    "| 15 <br> 11 17 20 7 13 19 2 1 14 15 12 12 19 16 3 | 155 |\n",
    "| 14 <br> 3 4 7 2 8 5 4 5 5 8 3 1 1 4 | 52 |"
   ]
  },
  {
   "cell_type": "code",
   "execution_count": null,
   "id": "5c6c76a1",
   "metadata": {
    "vscode": {
     "languageId": "plaintext"
    }
   },
   "outputs": [],
   "source": [
    "n = int(input())\n",
    "\n",
    "lista_jogadores = []\n",
    "entrada = input()\n",
    "lista_jogadores = [int(numero) for numero in entrada.split()]\n",
    "\n",
    "lista_jogadores.sort()\n",
    "\n",
    "# Soma dos Titulares --> Os últimos 11 da lista ordenada\n",
    "soma_titular = sum(lista_jogadores[-11:])\n",
    "\n",
    "# Soma dos Reservas *melhores \n",
    "# --> [-22:-11] se num_jogadores >= 12 senao [:-11]\n",
    "soma_reserva = sum(lista_jogadores[-22:-11]) if n >= 22 else sum(lista_jogadores[:-11])\n",
    "\n",
    "diferenca = soma_titular - soma_reserva\n",
    "\n",
    "print(diferenca)"
   ]
  }
 ],
 "metadata": {
  "language_info": {
   "name": "python"
  }
 },
 "nbformat": 4,
 "nbformat_minor": 5
}
