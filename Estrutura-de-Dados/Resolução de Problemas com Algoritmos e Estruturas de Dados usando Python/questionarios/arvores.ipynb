{
 "cells": [
  {
   "cell_type": "markdown",
   "id": "e9f36de2",
   "metadata": {},
   "source": [
    "# Árvores Binárias"
   ]
  },
  {
   "cell_type": "markdown",
   "id": "c1663ab1",
   "metadata": {},
   "source": [
    "### Questão 01"
   ]
  },
  {
   "cell_type": "code",
   "execution_count": null,
   "id": "5ef73a62",
   "metadata": {
    "vscode": {
     "languageId": "plaintext"
    }
   },
   "outputs": [],
   "source": []
  },
  {
   "cell_type": "markdown",
   "id": "1f461ffa",
   "metadata": {},
   "source": [
    "### Questão 02"
   ]
  },
  {
   "cell_type": "code",
   "execution_count": null,
   "id": "f5dc831f",
   "metadata": {
    "vscode": {
     "languageId": "plaintext"
    }
   },
   "outputs": [],
   "source": []
  },
  {
   "cell_type": "markdown",
   "id": "6a72ef50",
   "metadata": {},
   "source": [
    "### Questão 03\n",
    "Todo mundo adora uma simetria! E com árvores binárias não vai ser diferente. Uma Árvore Binária é considerada simétrica se, dada uma árvore, suas sub-árvores são espelhos uma da outra, da seguinte forma: \n",
    "\n",
    "\n",
    "Neste exercício sua tarefa é escrever uma função chamada `verificaSimetria` que recebe uma árvore binária e retorna um valor booleano indicando se essa árvore é ou não uma árvore binária simétrica.\n",
    "\n",
    "**Entrada**  \n",
    "Não há entrada de dados, a função verificaSimetria é chamada para valores arbitrários definidos nos casos de teste. Essa função recebe como entrada um parâmetro:\n",
    "\n",
    "- `raiz`: Uma árvore binária, definida da seguinte forma:\n",
    "```python\n",
    "class ArvoreBinaria():\n",
    "\n",
    "    def __init__(self, dado, esq = None, dir = None):\n",
    "        self.dado = dado\n",
    "        self.esq = esq\n",
    "        self.dir = dir\n",
    "```\n",
    "\n",
    "**Saída**  \n",
    "A saída deve retornar um valor booleano indicando `True` se a árvore for uma ávore binária simétrica e `False`, caso contrário.\n",
    "\n",
    "**Observação**  \n",
    "No caso de teste 01, a árvore é uma árvore binária simétrica e sua representação é a seguinte:\n",
    "\n",
    "Já o caso de teste 02, a árvore não é uma árvore binária simétrica:\n",
    "\n",
    "\n",
    "**Por exemplo:**  \n",
    "| **Teste** | **Resultado** |\n",
    "| --------- | ------------- |\n",
    "| raiz = ArvoreBinaria(1, ArvoreBinaria(0, ArvoreBinaria(1), ArvoreBinaria(0)), ArvoreBinaria(0, ArvoreBinaria(0), ArvoreBinaria(1))) <br> print(verificaSimetria(raiz)) | True |\n",
    "| raiz = ArvoreBinaria(1, ArvoreBinaria(0, ArvoreBinaria(0), ArvoreBinaria(1)), ArvoreBinaria(0, ArvoreBinaria(0), ArvoreBinaria(1))) <br> print(verificaSimetria(raiz)) | False |\n",
    "| raiz = ArvoreBinaria(0, ArvoreBinaria(1, ArvoreBinaria(1, None, None), ArvoreBinaria(0, None, None)), ArvoreBinaria(1, ArvoreBinaria(1, None, None), ArvoreBinaria(0, None, None))) <br> print(verificaSimetria(raiz)) | False |"
   ]
  },
  {
   "cell_type": "code",
   "execution_count": null,
   "id": "fc2e37f8",
   "metadata": {
    "vscode": {
     "languageId": "plaintext"
    }
   },
   "outputs": [],
   "source": [
    "# A classe ArvoreBinaria já foi definida\n",
    "def verificaSimetria(raiz):\n",
    "    if raiz is None:\n",
    "        return True\n",
    "    \n",
    "    def verificaSimetria_rec(esq, dir):\n",
    "        # Ambos None = Simétricos\n",
    "        if esq is None and dir is None:\n",
    "            return True\n",
    "        # Apenas um None = Assimétricos\n",
    "        if esq is None or dir is None:\n",
    "            return False\n",
    "        # Verifica valor e subárvores espelhadas\n",
    "        return (esq.dado == dir.dado and \n",
    "                verificaSimetria_rec(esq.esq, dir.dir) and \n",
    "                verificaSimetria_rec(esq.dir, dir.esq))\n",
    "    \n",
    "    return verificaSimetria_rec(raiz.esq, raiz.dir)"
   ]
  }
 ],
 "metadata": {
  "language_info": {
   "name": "python"
  }
 },
 "nbformat": 4,
 "nbformat_minor": 5
}
